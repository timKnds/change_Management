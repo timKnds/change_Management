{
 "cells": [
  {
   "cell_type": "code",
   "execution_count": 2,
   "id": "951f35c2",
   "metadata": {},
   "outputs": [],
   "source": [
    "import pandas as pd\n",
    "import os\n",
    "\n",
    "from langchain_community.vectorstores.azuresearch import AzureSearch\n",
    "from langchain_openai import AzureOpenAIEmbeddings"
   ]
  },
  {
   "cell_type": "markdown",
   "id": "41d91432",
   "metadata": {},
   "source": [
    "## eigenes chunken"
   ]
  },
  {
   "cell_type": "code",
   "execution_count": 3,
   "id": "8b16afdf",
   "metadata": {},
   "outputs": [],
   "source": [
    "df=pd.read_csv(\"input_data/components 1.txt\", encoding=\"utf-8\")"
   ]
  },
  {
   "cell_type": "code",
   "execution_count": 15,
   "id": "b98cbf54",
   "metadata": {},
   "outputs": [],
   "source": [
    "for name in df['Ebene-3'].dropna().unique():\n",
    "    filtered_df = df[df['Ebene-3'] == name]\n",
    "    \n",
    "    # Dateinamen bereinigen (z. B. keine Schrägstriche oder Leerzeichen)\n",
    "    safe_name = name.replace(\"/\", \"_\").replace(\" \", \"_\")\n",
    "    \n",
    "    # Exportieren als TXT\n",
    "    filtered_df.to_csv(f\"indexed_data/{safe_name}.txt\", sep=\",\", index=False)"
   ]
  },
  {
   "cell_type": "markdown",
   "id": "71acf130",
   "metadata": {},
   "source": [
    "## Verbindung herstellen"
   ]
  },
  {
   "cell_type": "code",
   "execution_count": 11,
   "id": "31e4d740",
   "metadata": {},
   "outputs": [],
   "source": [
    "# Option 2: use an Azure OpenAI account with a deployment of an embedding model\n",
    "azure_openai_api_key=os.getenv(\"AZURE_OPENAI_API_KEY\")\n",
    "azure_endpoint=os.getenv(\"AZURE_OPENAI_ENDPOINT\") \n",
    "azure_openai_api_version: str = \"2023-05-15\"\n",
    "azure_deployment: str = \"embedding\""
   ]
  },
  {
   "cell_type": "code",
   "execution_count": 12,
   "id": "e1c286e3",
   "metadata": {},
   "outputs": [],
   "source": [
    "vector_store_address: str =os.getenv(\"YOUR_AZURE_SEARCH_ENDPOINT\")\n",
    "vector_store_password: str = os.getenv(\"YOUR_AZURE_SEARCH_ADMIN_KEY\")"
   ]
  },
  {
   "cell_type": "code",
   "execution_count": 13,
   "id": "6c9ec6a6",
   "metadata": {},
   "outputs": [],
   "source": [
    "# Option 2: Use AzureOpenAIEmbeddings with an Azure account\n",
    "embeddings: AzureOpenAIEmbeddings = AzureOpenAIEmbeddings(\n",
    "    azure_deployment=azure_deployment,\n",
    "    openai_api_version=azure_openai_api_version,\n",
    "    azure_endpoint=azure_endpoint,\n",
    "    api_key=azure_openai_api_key,\n",
    ")"
   ]
  },
  {
   "cell_type": "markdown",
   "id": "0cb33531",
   "metadata": {},
   "source": [
    "## Embeddings erzeugen und eine Vektorstore Instanz!"
   ]
  },
  {
   "cell_type": "code",
   "execution_count": 14,
   "id": "09b5f423",
   "metadata": {},
   "outputs": [],
   "source": [
    "index_name: str = \"components-index\"\n",
    "vector_store: AzureSearch = AzureSearch(\n",
    "    azure_search_endpoint=vector_store_address,\n",
    "    azure_search_key=vector_store_password,\n",
    "    index_name=index_name,\n",
    "    embedding_function=embeddings.embed_query,\n",
    ")"
   ]
  },
  {
   "cell_type": "code",
   "execution_count": null,
   "id": "c32f76a3",
   "metadata": {},
   "outputs": [],
   "source": [
    "from langchain_community.document_loaders import TextLoader\n"
   ]
  },
  {
   "cell_type": "code",
   "execution_count": 18,
   "id": "7493d9e3",
   "metadata": {},
   "outputs": [
    {
     "data": {
      "text/plain": [
       "['ZjA4MGNkMDUtOWY1Mi00NGQ3LWI5ZDMtNmY2YTQ1NTJlYjU3',\n",
       " 'MDg2MzIzOTEtYWE0My00YTNkLWFjNWQtODI1YTcxN2EyMDdi',\n",
       " 'ZTI4MDk1OTAtZGNjYi00NDFmLThjZTQtYTA0MDIzYzM5ZTYx',\n",
       " 'ZjUyZTE1MjYtNDA5ZS00NDAyLThhNWEtMWUxNDllMDA0OTJm',\n",
       " 'N2I1MDU5OWMtNGU2Yy00YjVlLWEzMzgtN2EwNDVhZjhmNWVl',\n",
       " 'OWMzYTM0ZTktMGRhMC00YjZhLThkMmQtMmVmYmFmNGZhYjRk',\n",
       " 'YWUzMWQzMTMtMTQ5Yi00NDQ3LWFjMDItZGY0M2RkZGZiOGUw',\n",
       " 'MTk2ODVkMmQtMTI3MC00M2RjLWI0NmUtOGMxNDNjYWNjNGUy',\n",
       " 'NzA3YjVmZjYtODJlYy00YTQyLWJkOTMtNGFkMTBlYTcxODA4',\n",
       " 'ZTJlMjI5MDgtMWY0My00NTRiLWExZTQtMDRhNjY4OTUzNmUy',\n",
       " 'ODAwMTQwNjItYjlkOC00NjdjLWFlNzgtMmYyNmFjMzJhYjE3',\n",
       " 'OTFiZTBjNDctN2NlYi00N2U4LTk1NmYtZTExNDc3MWY1MDll',\n",
       " 'OWNkZmJlZDktMmI3Ni00MDI4LTgwY2QtYjZiOGMyY2Y4MTVm',\n",
       " 'MTEwMjM0ZDYtY2ZjZS00NTdiLWExZTQtYWUxNTY3Njg3ZjFk',\n",
       " 'ODA4ZWJiNDgtODY5Ni00MjU5LWFhMWUtMzI5NWFiNmY2NGFi',\n",
       " 'MzI3NDVkZWEtNTYyOS00MzIwLTk4MzYtZDllMWY1ZWU0ZmE5',\n",
       " 'MTQwZjI2ZDktODRlNy00ODhjLWI0YTktZWQ1ODRmY2E2MWQw',\n",
       " 'Mzk5NTRmNWUtZDkyOS00YWY4LTkxNWQtYzNkOTNjNjhjNDk0',\n",
       " 'MDlkZmJlODEtY2QzMS00NDg0LWE1MGEtNTZkZDdlMmY0ZWZi',\n",
       " 'YjFhMDMzZWMtMDQwZi00MWMwLTlhY2QtOWE1MzYwMDI0N2Iz',\n",
       " 'MmFlMjEwMGQtM2E3OC00MGZkLTkzMWEtMDBkODZmZWZmZTY3',\n",
       " 'ZjNmZjVmZDAtZTJlMy00Yjk2LTk0ZmItMGQwNDZlNzE5YjA1',\n",
       " 'MTE5ZGI0NGEtNDUxYS00NTNkLWE5NDktNjlmYzlkMjdiODM1',\n",
       " 'OWZiMGQ2MzMtZGVjZC00MjdhLTgwNTktOGNmOTI0ODU5ZDIy',\n",
       " 'OTdhNGFkOTgtNWU2Zi00ZWY5LWJiMjgtMWM0ZDllZTA2MTI5',\n",
       " 'MDliZWY1NWYtODQwMC00NTBiLTgxZWItMmVhMjRkNDQxNThi',\n",
       " 'NzIxZWEyNjctM2FhMC00ZTZkLTk5ZmYtZDAzM2ZkYjEyMTZm',\n",
       " 'ZjQ1NjFiZDktZWFiZi00Nzg5LTk1NmEtZWIwNTAyZDYzMDM1',\n",
       " 'MTdlZmFkZmItYzBhNS00ZDRjLWEyNjctZjgzZDU5YmJjYjQ1',\n",
       " 'MjExZmVkMTUtYWJkMC00MWVlLWFkMTUtZDRjZmFmMTI4NmY0',\n",
       " 'YmRjMTAzN2YtZjRjOS00MDQzLWI4YTctOTY2ZWQ5MjcwODI0',\n",
       " 'ODJjNGM3MTktZWM0Yi00YzZjLTgyZjgtYTc3YjlkZTRmYzJh',\n",
       " 'MTM0Y2FkZGMtYTFiZC00YWZiLTk1ZDYtMGZjODg1MjM4MGY4',\n",
       " 'ZTdiMzVmN2UtYmNlMS00N2ZmLTg1MmEtNDk3YzllZjZhNjhj',\n",
       " 'MWU5ZmI4NjMtNGZkZC00MDM2LWE2YjctMWZlYTk4OWIyYjAw',\n",
       " 'YzI0NWJmZDEtYTU0Yi00NGMzLTgzMDgtMjYxYmI4NDllNDk0',\n",
       " 'NmM0ZWVlZDEtZjI3OC00MmJmLWE1NGYtMTAzMjgzNjQwMmU5',\n",
       " 'ZTdiMGYzOGUtNTQxYS00YzY5LWIzMzYtM2M1MGY5YWYyZDU3',\n",
       " 'M2RmNGE3ZTItMzdjMS00ODI1LWFkNjgtYzE3ZThlYjNiMGU4',\n",
       " 'Yzk0NTczNmYtMzRkMC00NTcyLThkNTItNDcyOGE2YTc0Mjlk',\n",
       " 'M2I0ZTk1NmItMmVkZS00YWI4LThkMWEtZWVkYzk4NjIyOTBj',\n",
       " 'OGQ0YWFiYjQtNjYxYy00ODYxLWIxMDAtYWQ3NWI2NGFjMWMz',\n",
       " 'NTYxYjVjYmUtM2Q3YS00MjQ5LThlZjktZjFmYzQwOWEzYjhi',\n",
       " 'YzgyYjhiZDItMTczMC00MGE4LWFkZjYtYWJjM2ZlYmNiNjZk',\n",
       " 'NWYyMTY4NGMtY2RmOC00OTMzLWIzNGYtYWYxZTU1ODdhMmI3',\n",
       " 'YmM5YzhhMzktMGJhMi00MjIxLTg5MGMtYzdjZDQ0MzU1YjYw',\n",
       " 'N2JkMjkwYzItODJmYS00YzVmLWEwYzQtMjhjZmM4NjVhNjA0',\n",
       " 'NjA4YWMzMjMtMzU1Yy00YjZmLWJhODItM2VlOTAxMzM5NzY1',\n",
       " 'YWE4ZjNlYWYtYjFiOS00NzQxLWIxMDctYjc2YTU4NDc2NjRl',\n",
       " 'OTJlNjNmYjgtN2E5ZC00Mjc1LWIxMjUtNWNjZDA5NzYwMDU2',\n",
       " 'YjM2ZWRhYTEtYThmZS00ZWU3LWEwZDMtODkyNjdkYWM2NzZm',\n",
       " 'MDIyYTQwMjMtYTI4NS00MmUxLTgxZmUtMjBhMmQzM2M2ZDNi',\n",
       " 'MDZhOGYwNmMtOTIzOC00OTZmLTg2MjktZGFlOTIwNjUxMmZi',\n",
       " 'Y2Y1MDBmYjYtMDA5Ny00OTY3LWIzZjQtMDZlZTUzOWY1MDg2',\n",
       " 'YzMzZWQ0NDEtNzY3Ni00MDZjLTkwYTQtM2QzNjA4MmJiYWFk',\n",
       " 'NTVjNDA4M2EtODFjMS00M2U3LWJhZTMtNzM4N2VlMGI4OWRm',\n",
       " 'YmU0YjE1ZGYtODQ0YS00MTgxLWEzM2MtNmJkY2Y5MDYyODE4',\n",
       " 'NzkxMzMxMmMtYzljNy00ZmIyLTkxODMtYTljZDJiY2NhZGZh',\n",
       " 'MTA4NmI3NmQtYzI3Ny00ZGEzLWI1YmUtNDlmY2ZhNDg1Zjlh',\n",
       " 'MmRkMWQ5ZmUtN2UyYi00YjBlLTkxNGEtMTAzZWJhMDA3NjRj',\n",
       " 'OWM0MTBlMjMtOWVlZC00NmY4LTkzYjYtNzFkNTU0ZjgyNDEx',\n",
       " 'NDY5OTQ5NTUtZDBhOS00MGU5LWFiZWEtMTNmYTJkMWI3ZDE2',\n",
       " 'NDdhMGFkZTctZmZiZC00ZTk4LTkxMjAtZjg5MjNhNGMxY2Fi',\n",
       " 'MTY4ZWRiNzktODMwYy00NWMxLWE5ZDAtODI5MGU3NjFiOWNm',\n",
       " 'ZTRhM2RhMDUtMjZmOC00N2MyLTkyYjAtNTExMTJlNzg0ZjM5',\n",
       " 'YzAwMjA3MTUtMTE2ZC00YWFmLTg0MTItNWQ1ODQ5OWU4ODQ5',\n",
       " 'YjNhMmRhZDMtODgwZS00MDZjLWIzMmEtZGFhZWMxOGIwNzcz',\n",
       " 'YWYzOWEwM2ItYjcyZi00MmZlLWEyZWYtYmY3Y2RlZjI3MDE4',\n",
       " 'NDIzMjM2MzItYmNhMS00MGYzLThhOTMtZjhkMGRiODc4MjIy',\n",
       " 'Yjg2ZmZjNTEtNzY0Mi00N2QzLWE2NmMtZmFkODBhYjc4MzA5',\n",
       " 'NTRlNTFkMGUtOGYwZC00NDA1LWE4MDEtMWZmNmVhYTk4Njg1',\n",
       " 'NzMzMjUxZTctZTFjNy00M2QzLTg3YWItYzRhZTNmMWJjNzU5',\n",
       " 'ZjkwOWNhNzAtZWY1Ny00MmYxLWIxNDYtYTc0ZGZlNDAzOTcw',\n",
       " 'OTlkYWEwZmMtMmVmYi00ZmI0LWFjOTctNzQ3MzE4NDdiZjY0',\n",
       " 'MDdlMjQ1YTQtOTM1NS00N2M0LWIyNTUtMTRjMDVlZWVkMTgx',\n",
       " 'ZWM5YzRmNjgtY2UzZi00ZDY4LWE4MDktNzkxMWEzNmRlNTky',\n",
       " 'Y2ZmOTliZTUtYTcxNS00M2Q5LWIzNjQtMDBlYTc0MGU5ZWQ1',\n",
       " 'MjVhMTM5ODctNmMyYi00N2VhLWFiNmItYWFmZjdkNTRlYTcx',\n",
       " 'MWM5ZjA2YzYtNGRhMC00YmZlLWE5ZGUtYWYwNGQ1MzNmNGQx',\n",
       " 'ZmY1ZGVkMmMtOTQwNy00OTJkLTk4NWItNzA0YmM0NGQ4ZDI2',\n",
       " 'Y2FmNDYxMWUtNWQwMC00ZjA5LTljM2ItNzQxNDQ4OTE5YjE3',\n",
       " 'NWQxN2ZhYmYtYThjNC00MTg0LWJiYTQtZmM1MmY5ZDM1NGZi',\n",
       " 'MzExYzEyNTQtZjg5MC00YTNhLWFmYzQtNzE1N2U4M2MwOWRk',\n",
       " 'M2VhZGNkMDYtM2QyZC00YzcxLWE2NDgtMDRiNzQyYTNkZWFl',\n",
       " 'NTMxZDg4MGEtZTMzMi00Y2YzLWJiYTItN2EzMGY3MGU3MmZm',\n",
       " 'MzJkMDA0YzQtMGI1Mi00NzEyLThmNTYtMGY2MTgwY2M0YTQz',\n",
       " 'NzhmMWMzNDctMzEzOS00ZGYxLTk4YzEtOWRjZTFhMDdiYTg5',\n",
       " 'ZDhkOTBkMDgtZTFiNS00MGUyLWEwMDMtZDhjZTNmODllODA5',\n",
       " 'ZWMxZDlmMjEtNjU5ZC00NzdjLTlmYWUtNGRkN2U3OGRhODE4',\n",
       " 'NmRkOTQwYzMtMGViMy00NWE4LWI2MWItMjdjOWIyNjExZmZl',\n",
       " 'ZTZmNTgxZWQtZTgyNC00NjUzLTgyNGItM2QxOGMwZWE0NmQz',\n",
       " 'ZjQ4ZGZiNDEtOTI4Yi00NmIxLThlNWYtZWY1YTliZTkxMWUw',\n",
       " 'YTI0MWQyZDUtMDI2ZC00YjBkLWFhZTYtNjIyYWY0ZWViODQy',\n",
       " 'ZDFkYzM0ODItYTYxMy00MjJiLWI0MTAtNDE3NGRmNjE3ZWE5',\n",
       " 'ZTJiNGJhNTgtZWRmYi00Mjg4LWFmMjktMTUyZTY5NDQyMDI4',\n",
       " 'MDZmNThkMzMtNjUyNy00YTcyLThjZGMtZmFlNjg3MWIyNWZm',\n",
       " 'NjhjMDNmNjItYTA3My00MTA0LWJhZGEtN2Q2NGQ0OTUwY2Ni',\n",
       " 'NmQwNmJjMDUtNmExZC00NTE0LTkxM2UtZjAyN2U2Y2Y2MWU5',\n",
       " 'NDYwODUwN2YtY2ZlMi00ZTIxLTlmNDAtZDc1NGQyMThjZmUz',\n",
       " 'ZDIzYWU1NDAtMzQzMS00NTI3LWEwODUtNmE0MGRkZWYxZDZk',\n",
       " 'ZmQwMTZhMDMtMjM4OS00NjVhLTljN2UtY2M0NTk1NjY0MTcy',\n",
       " 'NzJhM2RjNmYtOThhYi00MDYwLWI5YmYtZjcyNzEyYjE1ZWMz',\n",
       " 'NjM2NmFlZDAtN2RkOS00MzgwLWJjYjMtZDc0NGEyZjM2Y2Y4',\n",
       " 'MTVmZjgxODMtMTI1Yy00OGExLTg1NTktZDY0ZjJlMDdjYjA5',\n",
       " 'YjQ3Y2EwY2EtMDI0Yy00Y2JiLWFmYTItMjQ1NWUxNTBiMDE4',\n",
       " 'OWU1ZTNkYzMtNjhkZS00MTM2LWE4ZGMtYzU4YzNiNjdiOGM1',\n",
       " 'MTFiM2I4NWQtZThhMi00YjQ4LTlmODItM2QwNTA0YjAyY2Zm',\n",
       " 'NzQzYzNmZGQtODI3OC00ZjBiLTgwMWQtMWQ5YjZkNGY2NzMy',\n",
       " 'NTgwNWYzZGQtMzdjNi00YWVlLWI3N2QtZWM1ZmQ0ZTFhOGFk',\n",
       " 'NmU3MmY0OWEtY2Y4Zi00NmViLThjMTgtMzYxNTg0N2MxYzY1',\n",
       " 'NDcxNTg0YjAtM2Y2Yi00OGYzLWI0ZmEtN2UwZWU0OWViYzEz',\n",
       " 'NDM3ZDJkZGItNzU3ZC00ZTY1LWFjOGEtNmM0YTUxMjkzYjFj',\n",
       " 'ZTY1M2JmMTUtMTgzNS00ZDAxLTlmNDgtMzBkOWQ5YTMxNmRm',\n",
       " 'YmY3NmYxM2QtOWEwMS00MGIyLTliZjYtZWExNDQyMDRiZTc0',\n",
       " 'ZTkxZGMyODMtNGVhYi00OGE2LTg5Y2QtMGYxYzUwYmY1MzM0',\n",
       " 'OWQ0MTAxN2UtM2VhMS00ZDY2LWE0ZWQtZDQ0ZDY0YThiNmI3',\n",
       " 'MGY3MjU3MzYtMmM0Zi00ZjllLWI3NmItMTYzZmNjMjZjZmI3',\n",
       " 'ZDdjYzFhMjUtYTVmZS00MmM2LWJlMGEtMTAyMzVlYzcxZTVi',\n",
       " 'MmZmMDU3NDQtNDQyMC00YzQ5LTk3MTItZWQwYWQ0MGRiYzU4']"
      ]
     },
     "execution_count": 18,
     "metadata": {},
     "output_type": "execute_result"
    }
   ],
   "source": [
    "\n",
    "data_folder = \"indexed_data\"\n",
    "\n",
    "# Alle TXT-Dateien im Ordner laden\n",
    "documents = []\n",
    "for filename in os.listdir(data_folder):\n",
    "    if filename.endswith(\".txt\"):\n",
    "        file_path = os.path.join(data_folder, filename)\n",
    "        loader = TextLoader(file_path, encoding=\"utf-8\")\n",
    "        docs = loader.load()\n",
    "        documents.extend(docs)\n",
    "\n",
    "# Direkt in die Vektordatenbank einfügen – ohne weiteres Chunking\n",
    "vector_store.add_documents(documents=documents)"
   ]
  },
  {
   "cell_type": "markdown",
   "id": "08000006",
   "metadata": {},
   "source": [
    "### Testen des Index"
   ]
  },
  {
   "cell_type": "code",
   "execution_count": 19,
   "id": "28505fa5",
   "metadata": {},
   "outputs": [
    {
     "name": "stdout",
     "output_type": "stream",
     "text": [
      "Ebene-1,Ebene-2,Ebene-3,SNS_number,Komponente\n",
      "Bodysystem,Beleuchtungssystem,Außenlichtsystem,94f36c4a-2bad-48ef-817a-cdd88abbaf50,LED-Modul\n",
      "Bodysystem,Beleuchtungssystem,Außenlichtsystem,15206204-5d75-4417-a13c-cda18fa722a6,Scheinwerfergehäuse\n",
      "Bodysystem,Beleuchtungssystem,Außenlichtsystem,9ac635ff-d737-4191-a3e1-124873207fa9,Reflektorlinse\n",
      "Bodysystem,Beleuchtungssystem,Außenlichtsystem,13b3c0b4-b02d-42b0-a505-246126c283fe,Projektionslinse\n",
      "Bodysystem,Beleuchtungssystem,Außenlichtsystem,4fa22ce8-bf30-45c8-99b4-cd28cc509259,Leuchtmittelhalterung\n",
      "Bodysystem,Beleuchtungssystem,Außenlichtsystem,109e6ca3-897c-4f7f-985b-81fe7029ba12,Kühlkörper\n",
      "Bodysystem,Beleuchtungssystem,Außenlichtsystem,49eaed10-27d1-453c-ae33-cc4ffd332a1f,Steckverbinder\n",
      "Bodysystem,Beleuchtungssystem,Außenlichtsystem,5fc9f96f-77c1-4144-9ce6-a7f33bbd2aca,Kabelbaum\n",
      "Bodysystem,Beleuchtungssystem,Außenlichtsystem,3a5c5287-b726-4443-ac2f-97d30b725333,Spannungswandler\n",
      "Bodysystem,Beleuchtungssystem,Außenlichtsystem,e5ee980c-ce75-4754-9b7b-08d617f9f3db,Leistungsmodul\n",
      "Bodysystem,Beleuchtungssystem,Außenlichtsystem,85c69640-7cc2-4c06-abae-d40497b2e481,Sensor für Umgebungslicht\n",
      "Bodysystem,Beleuchtungssystem,Außenlichtsystem,ceec8f0f-96e5-4a30-bdf7-79c57e2a6c44,Sensor für Regen\n",
      "Bodysystem,Beleuchtungssystem,Außenlichtsystem,665568fc-a10f-4be5-a23a-02ed05073e22,Sensor für Dämmerung\n",
      "Bodysystem,Beleuchtungssystem,Außenlichtsystem,7fefe39a-925b-44c4-9738-410062a2e081,Motor für adaptive Scheinwerfer\n",
      "Bodysystem,Beleuchtungssystem,Außenlichtsystem,b0166938-957c-4cfb-bc74-c05c31b52bf8,Motorsteuerung für Lichtausrichtung\n",
      "Bodysystem,Beleuchtungssystem,Außenlichtsystem,2a667a56-8c14-4681-bf77-c9746a0ae797,Schutzabdeckung\n",
      "Bodysystem,Beleuchtungssystem,Außenlichtsystem,b5679988-e1a6-4043-ab13-c626797537e2,Glaslinse\n",
      "Bodysystem,Beleuchtungssystem,Außenlichtsystem,7a735700-35ed-4058-a43b-f457797747dc,Schutzfolie\n",
      "Bodysystem,Beleuchtungssystem,Außenlichtsystem,773e1d78-6068-4a3b-8f8d-d1402466445b,Montagehalterung\n",
      "Bodysystem,Beleuchtungssystem,Außenlichtsystem,6b5e6af5-2522-4b3a-afe5-03f56252e3ea,Schrauben und Befestigungselemente\n",
      "Bodysystem,Beleuchtungssystem,Außenlichtsystem,a7df0b90-8508-4519-94cd-bf272e3495b6,Dichtungen\n",
      "Bodysystem,Beleuchtungssystem,Außenlichtsystem,f03f6d32-5cdd-41a9-853e-215486a55efc,Temperatursensor\n",
      "Bodysystem,Beleuchtungssystem,Außenlichtsystem,be8be5a3-a840-47e0-a92a-c61e3ea2239f,Feuchtigkeitssensor\n",
      "Bodysystem,Beleuchtungssystem,Außenlichtsystem,7953c4c1-d546-4bf9-957f-0ee62a26f8a2,Schaltrelais\n",
      "Bodysystem,Beleuchtungssystem,Außenlichtsystem,3ae1ae97-5615-46ad-affa-feea00f83722,Stromversorgungseinheit\n",
      "Bodysystem,Beleuchtungssystem,Außenlichtsystem,901cb3ae-bb8f-4dec-aaab-5c255febfe54,Diagnoseanschluss\n",
      "Bodysystem,Beleuchtungssystem,Außenlichtsystem,2990afba-33b5-4761-a274-6bb768b0b338,Steuergerätgehäuse\n",
      "Bodysystem,Beleuchtungssystem,Außenlichtsystem,b9e3751f-d62a-4a8d-9f9e-57b7f0450dd8,EMV-Abschirmung\n",
      "Bodysystem,Beleuchtungssystem,Außenlichtsystem,993abd66-25f0-40ba-925e-d88c81a4eaad,Optische Filter\n",
      "Bodysystem,Beleuchtungssystem,Außenlichtsystem,5351b1a3-fa25-4ee0-99d1-4d12025a07c5,Signalverstärker\n",
      "Bodysystem,Beleuchtungssystem,Außenlichtsystem,1ea0ea59-0868-48ef-a0b9-64184b19a31a,Lichtsteuerungssoftware\n",
      "Bodysystem,Beleuchtungssystem,Außenlichtsystem,838bf480-f724-47b8-a77b-2c3a0d69c24e,AdaptivesLichtmanagementsystem\n",
      "Bodysystem,Beleuchtungssystem,Außenlichtsystem,09a7dfaf-a188-4cee-ac40-b41d47c0e6a3,Fehlerdiagnosesoftware\n",
      "Bodysystem,Beleuchtungssystem,Außenlichtsystem,b4b027d6-f9f8-4dd1-a80d-a80c5f100955,Umgebungslichtanpassungssoftware\n",
      "Bodysystem,Beleuchtungssystem,Außenlichtsystem,ae120054-f9f6-4fcf-a201-76dd677f6fdb,Regenlichtsteuerungssoftware\n",
      "Bodysystem,Beleuchtungssystem,Außenlichtsystem,88b00476-de05-4055-8810-d496b6ad1585,Dämmerungslichtsteuerungssoftware\n",
      "Bodysystem,Beleuchtungssystem,Außenlichtsystem,8d8863cf-5bfc-4085-88f0-396c6260fa6d,Software für Fernlichtassistent\n",
      "Bodysystem,Beleuchtungssystem,Außenlichtsystem,a08d3df1-b6e2-4cc9-8d63-8ce120b43677,Software für Kurvenlichtsteuerung\n",
      "Bodysystem,Beleuchtungssystem,Außenlichtsystem,084ff299-b866-4876-8a32-29f5beb154d6,Software für Lichtintensitätsregelung\n",
      "Bodysystem,Beleuchtungssystem,Außenlichtsystem,b3ec6ef8-31ad-441c-b9f2-67c5470a7e81,Software für Lichtanimation\n",
      "Bodysystem,Beleuchtungssystem,Außenlichtsystem,2608c8d5-1e52-47de-b7bb-486269e8f96b,Software für Blinkersteuerung\n",
      "Bodysystem,Beleuchtungssystem,Außenlichtsystem,89a0044b-9210-4d41-b028-1ac64f838e50,Software für Tagfahrlichtsteuerung\n",
      "Bodysystem,Beleuchtungssystem,Außenlichtsystem,a8f54771-79f0-49c2-ac90-8fe473efaa48,Software für Rücklichtsteuerung\n",
      "Bodysystem,Beleuchtungssystem,Außenlichtsystem,0b966245-2aa4-4459-9c41-d20e92d462b0,Software für Bremslichtsteuerung\n",
      "Bodysystem,Beleuchtungssystem,Außenlichtsystem,7d707b35-411c-4a55-932d-5a63b9625ad6,Software für Nebelscheinwerfersteuerung\n",
      "Bodysystem,Beleuchtungssystem,Außenlichtsystem,986a2432-a4a2-4598-98f5-ae87a78e1d1a,Software für Scheinwerferausrichtung\n",
      "Bodysystem,Beleuchtungssystem,Außenlichtsystem,fa056c47-5cc6-4ad7-84ed-4d5ce2f57259,Software für Lichtmodulkommunikation\n",
      "Bodysystem,Beleuchtungssystem,Außenlichtsystem,e03dc431-62ba-48bd-8f50-93f29aa87350,Software für Energieoptimierung\n",
      "Bodysystem,Beleuchtungssystem,Außenlichtsystem,ccde9b1e-9805-46b3-9e4d-201d017c8082,Software für Lichtpriorisierung\n",
      "Bodysystem,Beleuchtungssystem,Außenlichtsystem,085ec881-5c19-4ac7-960f-594d1e003967,Software für Lichtdiagnose\n",
      "Bodysystem,Beleuchtungssystem,Außenlichtsystem,aa7611e6-169b-48b8-81d4-e63d8bc4f7a1,Software für OTA-Updates\n",
      "Bodysystem,Beleuchtungssystem,Außenlichtsystem,74764c30-1177-4a6f-8d88-7a3775d4cce5,Software für Lichtsensorintegration\n",
      "Bodysystem,Beleuchtungssystem,Außenlichtsystem,27ec8d53-69f1-4319-a6e1-73c3ebf26aa6,Software für Fahrzeugkommunikation\n",
      "Bodysystem,Beleuchtungssystem,Außenlichtsystem,9bfacb79-79c2-4099-b2c7-f2dff4cfa233,Software für Lichtmodulkalibrierung\n",
      "Bodysystem,Beleuchtungssystem,Außenlichtsystem,0df2c743-49a6-4949-bafe-914f35fa178b,Software für Lichtmodulüberwachung\n",
      "Bodysystem,Beleuchtungssystem,Außenlichtsystem,ba07413c-df48-4896-8efa-14490ef10925,Software für Lichtmodulprotokollierung\n",
      "Bodysystem,Beleuchtungssystem,Außenlichtsystem,eaa97c1c-4545-43c1-9a1e-fec44294d118,Software für Lichtmodulauthentifizierung\n",
      "Bodysystem,Beleuchtungssystem,Außenlichtsystem,fa1aa95b-3c9c-45d1-9390-a292a235c7ee,Software für Lichtmodulkonfiguration\n",
      "Bodysystem,Beleuchtungssystem,Außenlichtsystem,fcfbfd85-446e-4575-9402-f963457669e8,Software für Lichtmodultest\n",
      "Bodysystem,Beleuchtungssystem,Außenlichtsystem,9f769d2d-c890-43cb-9f15-57e18ea55ad0,Software für Lichtmodulfehlerbehebung\n",
      "\n"
     ]
    }
   ],
   "source": [
    "docs = vector_store.similarity_search(\n",
    "    query=\"Scheinwerfer finden\",\n",
    "    k=3,\n",
    "    search_type=\"similarity\",\n",
    ")\n",
    "print(docs[0].page_content)"
   ]
  },
  {
   "cell_type": "code",
   "execution_count": 20,
   "id": "9431b876",
   "metadata": {},
   "outputs": [
    {
     "name": "stdout",
     "output_type": "stream",
     "text": [
      "[]\n"
     ]
    }
   ],
   "source": [
    "docs_and_scores = vector_store.similarity_search_with_relevance_scores(\n",
    "    query=\"What did the president say about Ketanji Brown Jackson\",\n",
    "    k=4,\n",
    "    score_threshold=0.80,\n",
    ")\n",
    "from pprint import pprint\n",
    "\n",
    "pprint(docs_and_scores)"
   ]
  },
  {
   "cell_type": "code",
   "execution_count": null,
   "id": "e2b86c7c",
   "metadata": {},
   "outputs": [],
   "source": [
    "docs_and_scores = vector_store.similarity_search_with_relevance_scores(\n",
    "    query=\"What did the president say about Ketanji Brown Jackson\",\n",
    "    k=4,\n",
    "    score_threshold=0.80,\n",
    ")\n",
    "from pprint import pprint\n",
    "\n",
    "pprint(docs_and_scores)"
   ]
  }
 ],
 "metadata": {
  "kernelspec": {
   "display_name": "meister_front",
   "language": "python",
   "name": "python3"
  },
  "language_info": {
   "codemirror_mode": {
    "name": "ipython",
    "version": 3
   },
   "file_extension": ".py",
   "mimetype": "text/x-python",
   "name": "python",
   "nbconvert_exporter": "python",
   "pygments_lexer": "ipython3",
   "version": "3.11.10"
  }
 },
 "nbformat": 4,
 "nbformat_minor": 5
}
